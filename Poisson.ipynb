{
 "cells": [
  {
   "cell_type": "markdown",
   "metadata": {},
   "source": [
    "#Instructions\n",
    "* **<font color=\"red\">When you load this page, go to \"Cell->Run All\" to start the program running.  After that point, you should be able to use the sliders and buttons to manipulate the output.</font>**  \n",
    "* If things go totally awry, you can go to \"Kernel->Restart\" and then \"Cell->Run All\".  A more drastic solution would be to close and reload the page, which will reset the code to its initial state.  \n",
    "* If you're interested in programming, click the \"Toggle raw code\" button.  This will expose the underlying program, written in the Python3 programming language.  You can edit the code to your heart's content: just go to \"Cell->Run All\" after you modify things so the changes will be incorporated.  Text in the code blocks preceded by `#` are comments to guide you through the excercise and/or explain the code"
   ]
  },
  {
   "cell_type": "code",
   "execution_count": 1,
   "metadata": {
    "collapsed": false
   },
   "outputs": [
    {
     "data": {
      "text/html": [
       "\n",
       "\n",
       "<script>\n",
       "    code_show=true; \n",
       "    \n",
       "    function code_toggle() {\n",
       "     if (code_show){\n",
       "         $('div.input').hide();\n",
       "     } else {\n",
       "         $('div.input').show();\n",
       "     }\n",
       "     code_show = !code_show\n",
       "    } \n",
       "    \n",
       "    $( document ).ready(code_toggle);\n",
       "</script>\n",
       "\n",
       "<form action=\"javascript:code_toggle()\">\n",
       "    <input type=\"submit\" value=\"Toggle raw code\">\n",
       "</form>\n",
       "\n"
      ],
      "text/plain": [
       "<IPython.core.display.HTML object>"
      ]
     },
     "execution_count": 1,
     "metadata": {},
     "output_type": "execute_result"
    }
   ],
   "source": [
    "# -----------------------------------------------------------------------------------\n",
    "# Javascript that gives us a cool hide-the-code button \n",
    "\n",
    "from IPython.display import HTML\n",
    "\n",
    "HTML('''\n",
    "\n",
    "<script>\n",
    "    code_show=true; \n",
    "    \n",
    "    function code_toggle() {\n",
    "     if (code_show){\n",
    "         $('div.input').hide();\n",
    "     } else {\n",
    "         $('div.input').show();\n",
    "     }\n",
    "     code_show = !code_show\n",
    "    } \n",
    "    \n",
    "    $( document ).ready(code_toggle);\n",
    "</script>\n",
    "\n",
    "<form action=\"javascript:code_toggle()\">\n",
    "    <input type=\"submit\" value=\"Toggle raw code\">\n",
    "</form>\n",
    "\n",
    "''')\n",
    "\n",
    "# ------------------------------------------------------------------------------------"
   ]
  },
  {
   "cell_type": "code",
   "execution_count": 2,
   "metadata": {
    "collapsed": false
   },
   "outputs": [
    {
     "data": {
      "image/png": "[encoded data removed]",
      "text/plain": [
       "<matplotlib.figure.Figure at 0x7f16687c95f8>"
      ]
     },
     "metadata": {},
     "output_type": "display_data"
    },
    {
     "name": "stdout",
     "output_type": "stream",
     "text": [
      "    counts      prob\n",
      "         0     0.368\n",
      "         1     0.368\n",
      "         2     0.184\n",
      "         3     0.061\n",
      "         4     0.015\n",
      "         5     0.003\n",
      "         6     0.001\n"
     ]
    }
   ],
   "source": [
    "\n",
    "#Import libraries that do things like plot data and handle arrays\n",
    "%matplotlib inline\n",
    "from matplotlib import pyplot as plt\n",
    "import numpy as np\n",
    "from scipy.stats import poisson\n",
    "\n",
    "# libraries for making pretty sliders and interactive graphs\n",
    "from IPython.html import widgets\n",
    "from IPython.html.widgets import interactive\n",
    "from IPython.display import display\n",
    "\n",
    "def calc_poisson(mu):\n",
    "    \"\"\"\n",
    "    Calculate a poisson distribution pmf given a value for mu, spitting a graph and a pretty\n",
    "    table.\n",
    "    \"\"\"\n",
    "\n",
    "    # some constants for making pretty graph/table\n",
    "    max_count = 200\n",
    "    p_cutoff = 0.0001\n",
    "    \n",
    "    # Do pmf calculation\n",
    "    x = np.arange(max_count)\n",
    "    p = poisson.pmf(np.arange(max_count),mu)\n",
    "    \n",
    "    # only grab data with reasonable probability\n",
    "    truth_table = p > p_cutoff\n",
    "    x = x[truth_table]\n",
    "    p = p[truth_table]\n",
    "    \n",
    "    # Make graph\n",
    "    plt.bar(x,p,width=0.6)\n",
    "    plt.xlabel(\"# molecules\")\n",
    "    plt.ylabel(\"probability\")\n",
    "    plt.title(\"Poisson probability mass function\")\n",
    "    plt.tight_layout()\n",
    "    plt.show()\n",
    "\n",
    "    # write data table\n",
    "    print(\"{:>10s}{:>10s}\".format(\"counts\",\"prob\"))\n",
    "    for i in range(len(x)):\n",
    "        print(\"{:10d}{:10.3f}\".format(x[i],p[i]))\n",
    "\n",
    "\n",
    "# graph/slider widget\n",
    "mu_widget = widgets.IntSlider(description=\"expected number of molecules\",min=1,max=100,step=1,value=10)\n",
    "container = widgets.interactive(calc_poisson,mu=mu_widget)\n",
    "display(container)\n"
   ]
  },
  {
   "cell_type": "code",
   "execution_count": null,
   "metadata": {
    "collapsed": true
   },
   "outputs": [],
   "source": []
  },
  {
   "cell_type": "code",
   "execution_count": null,
   "metadata": {
    "collapsed": true
   },
   "outputs": [],
   "source": []
  },
  {
   "cell_type": "code",
   "execution_count": null,
   "metadata": {
    "collapsed": true
   },
   "outputs": [],
   "source": []
  }
 ],
 "metadata": {
  "kernelspec": {
   "display_name": "Python 3",
   "language": "python",
   "name": "python3"
  },
  "language_info": {
   "codemirror_mode": {
    "name": "ipython",
    "version": 3
   },
   "file_extension": ".py",
   "mimetype": "text/x-python",
   "name": "python",
   "nbconvert_exporter": "python",
   "pygments_lexer": "ipython3",
   "version": "3.4.3"
  }
 },
 "nbformat": 4,
 "nbformat_minor": 0
}
