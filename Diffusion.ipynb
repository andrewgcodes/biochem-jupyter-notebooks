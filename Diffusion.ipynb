{
 "cells": [
  {
   "cell_type": "markdown",
   "metadata": {},
   "source": [
    "###Instructions\n",
    "* Each cell must be run sequentially, as the contents of each cell depend on the cells above.  To run a cell, click on it and either hit `shift+enter` on your keyboard or go to `Cell->Run` in the menu above.  \n",
    "* If things go totally awry, you can close and reload the page, which will reset the code to its initial state.\n",
    "* Text in the code blocks preceded by `#` are comments to guide you through the excercise and/or explain the code\n",
    "\n",
    "###Notes:\n",
    "This exercise is implemented in iPython, a program that wraps up the powerful Python3 programming language in a user-friendly, browser-based way.  \n"
   ]
  },
  {
   "cell_type": "markdown",
   "metadata": {},
   "source": [
    "$\\langle(x_N)^2\\rangle = 4Dt$"
   ]
  },
  {
   "cell_type": "code",
   "execution_count": 1,
   "metadata": {
    "collapsed": false,
    "scrolled": false
   },
   "outputs": [
    {
     "data": {
      "image/png": "[encoded data removed]",
      "text/plain": [
       "<matplotlib.figure.Figure at 0x7ff311106940>"
      ]
     },
     "metadata": {},
     "output_type": "display_data"
    }
   ],
   "source": [
    "#Import libraries that do things like plot data and handle arrays\n",
    "%matplotlib inline\n",
    "from matplotlib import pyplot as plt\n",
    "import numpy as np\n",
    "\n",
    "# libraries for making pretty sliders\n",
    "from IPython.html import widgets\n",
    "from IPython.html.widgets import interactive\n",
    "from IPython.display import display\n",
    "\n",
    "import time\n",
    "\n",
    "def x(radius,step_size=1):\n",
    "    \"\"\"\n",
    "    \"\"\"\n",
    "    \n",
    "    plt.ylim(-10,10)\n",
    "    plt.xlim(-10,10)\n",
    "    for i in range(-10,11,5):\n",
    "        plt.axhline(i,linestyle=\"--\",color=\"gray\")\n",
    "        plt.axvline(i,linestyle=\"--\",color=\"gray\")\n",
    "    \n",
    "    coordinate = np.array((0,0),dtype=float)\n",
    "    plt.plot(coordinate[0],coordinate[1],\"o\",color=\"black\")\n",
    "    plt.draw()\n",
    "    \n",
    "    for i in range(10):\n",
    "        \n",
    "        coordinate[0] += np.random.choice([-1,0,1])\n",
    "        coordinate[1] += np.random.choice([-1,0,1])\n",
    "        \n",
    "        plt.scatter(x=coordinate[0],y=coordinate[1])\n",
    "        plt.pause(0.1)\n",
    "        plt.draw()\n",
    "\n",
    "\n",
    "\n",
    "w = widgets.interactive(x,radius=1)\n",
    "display(w)"
   ]
  },
  {
   "cell_type": "markdown",
   "metadata": {},
   "source": [
    "1. What happens to the plot when you vary $K_{M}$?\n",
    "2. What happens to the plot when you vary $k_{cat}$?\n",
    "3. What happens to the plot when you vary $[E_{tot}]$?\n",
    "\n",
    "\n",
    "1. What are the blue, red, and black lines on this plot?\n",
    "2. Why does $k_{cat}\\times E_{tot}$ set the \"speed limit\" on this plot?"
   ]
  },
  {
   "cell_type": "code",
   "execution_count": 2,
   "metadata": {
    "collapsed": false
   },
   "outputs": [
    {
     "data": {
      "text/plain": [
       "(0, 100)"
      ]
     },
     "execution_count": 2,
     "metadata": {},
     "output_type": "execute_result"
    },
    {
     "data": {
      "image/png": "[encoded data removed]",
      "text/plain": [
       "<matplotlib.figure.Figure at 0x7ff311375c50>"
      ]
     },
     "metadata": {},
     "output_type": "display_data"
    }
   ],
   "source": [
    "\n",
    "k = 0.05\n",
    "s0 = 10\n",
    "def f(t,k=0.005,s0=10):\n",
    "    return s0*(1 - np.exp(-k*t))\n",
    "\n",
    "t = np.array(range(1000))\n",
    "plt.plot(t,f(t,k,s0))\n",
    "m = (f(1,k,s0) - f(0,k,s0))/(1-0)\n",
    "b = f(1,k,s0) - m\n",
    "\n",
    "plt.plot(range(1000),range(1000)*m+b,\"--\",color=\"black\")\n",
    "plt.ylim(0,100)\n"
   ]
  },
  {
   "cell_type": "markdown",
   "metadata": {},
   "source": [
    "Start with the definition of an acid dissocation constant:\n",
    "\n",
    "$$\\frac{[H^{+}][A]}{[HA]}=K_{acid}$$\n",
    "\n",
    "Rearrange and take the $log_{10}$ of both sides:\n",
    "\n",
    "$$[H^{+}]=\\frac{K_{acid}[HA]}{[A]}$$\n",
    "\n",
    "$$log_{10}([H^{+}]) = log_{10}\\Big(\\frac{K_{acid}[HA]}{[A]}\\Big)$$\n",
    "\n",
    "Recalling that $pX \\equiv -log_{10}(X)$ (and factoring out a minus sign) we can write:\n",
    "\n",
    "$$pH = pK_{a} + log_{10} \\Big (\\frac{[HA]}{[A]} \\Big)$$\n",
    "\n",
    "$$pH = pK_{a} - log_{10} \\Big (\\frac{[A]}{[HA]} \\Big)$$\n",
    "\n",
    "This is the Henderson-Hasselbalch equation.  \n",
    "\n",
    "Now let's think about $\\theta$, the fraction of some molecule $A$ that is protonated as a function of $pH$.  This is simply the concentration of protonated molecules ($[HA]$) over all possible molecules:\n",
    "\n",
    "$$\\theta \\equiv \\frac{[HA]}{[HA] + [A]}$$\n",
    "\n",
    "We can rearrange Henderson-Hasselbalch to solve for $[A]$:\n",
    "\n",
    "$$pH - pK_{a} = -log_{10} \\Big (\\frac{[A]}{[HA]} \\Big)$$\n",
    "\n",
    "$$10^{(pK_{a}-pH)} = \\frac{[A]}{[HA]}$$\n",
    "\n",
    "$$[HA] 10^{(pK_{a}-pH)} = [A]$$\n",
    "\n",
    "And then substitute into the equation for $\\theta$:\n",
    "\n",
    "$$\\theta = \\frac{[HA]}{[HA] + [HA] 10^{(pK_{a}-pH)}}$$\n",
    "\n",
    "$$\\theta = \\frac{1}{1 + 10^{(pK_{a}-pH)}}$$\n",
    "\n",
    "We now have an equation that relates the $pK_{a}$ and $pH$ to the saturation of a molecule.  "
   ]
  },
  {
   "cell_type": "code",
   "execution_count": 3,
   "metadata": {
    "collapsed": false
   },
   "outputs": [
    {
     "data": {
      "image/png": "[encoded data removed]",
      "text/plain": [
       "<matplotlib.figure.Figure at 0x7ff311308438>"
      ]
     },
     "metadata": {},
     "output_type": "display_data"
    }
   ],
   "source": [
    "\n",
    "def fractional_charge(pKa,charge,pH):\n",
    "    \n",
    "    theta_protonated = 1/(1 + 10**(pKa-pH))\n",
    "    \n",
    "    if charge == -1:\n",
    "        theta_charge = -1*(1-theta_protonated)\n",
    "    else:\n",
    "        theta_charge = theta_protonated\n",
    "        \n",
    "    return theta_charge\n",
    "\n",
    "\n",
    "def f(num_asp,num_glu,num_his,num_lys,num_arg):\n",
    "    \n",
    "    sequence = num_asp*\"D\" + num_glu*\"E\" + num_his*\"H\" + num_lys*\"K\" + num_arg*\"R\"\n",
    "    \n",
    "    pKa_dict = {\"E\":4.5,\"D\":4.0,\"H\":6.5,\"K\":10.5,\"R\":12.0}\n",
    "    charge_dict = {\"E\":-1,\"D\":-1,\"H\":1.0,\"K\":1.0,\"R\":1.0}\n",
    "    \n",
    "    pKas = []\n",
    "    charges = []\n",
    "    for s in sequence:\n",
    "        \n",
    "        try:\n",
    "            pKas.append(pKa_dict[s])\n",
    "            charges.append(charge_dict[s])\n",
    "        except KeyError:\n",
    "            pass\n",
    "        \n",
    "    # add N-terminus\n",
    "    pKas.append(10)\n",
    "    charges.append(1)\n",
    "\n",
    "    # add C-terminus\n",
    "    pKas.append(3)\n",
    "    charges.append(-1)\n",
    "    \n",
    "    pH_list = np.arange(0,14,0.25)\n",
    "    total_charge = np.zeros(len(pH_list))\n",
    "    for i in range(len(pKas)):\n",
    "        \n",
    "        total_charge = total_charge + fractional_charge(pKas[i],charges[i],pH_list)\n",
    "\n",
    "\n",
    "    \n",
    "    plt.plot(pH_list,total_charge,color=\"black\")\n",
    "       \n",
    "    plt.axhline(y=0,color=\"gray\",linestyle=\"dashed\")    \n",
    "\n",
    "    # axis labels\n",
    "    plt.xlabel(\"pH\")\n",
    "    plt.ylabel(\"total charge\")\n",
    "    \n",
    "    \n",
    "\n",
    "\n",
    "from IPython.html import widgets # Widget definitions\n",
    "from IPython.display import display # Used to display widgets in the notebook\n",
    "asp_widget = widgets.IntText(description=\"num Asp ( 4.0):\",value=3)\n",
    "glu_widget = widgets.IntText(description=\"num Glu ( 4.5):\",value=3)\n",
    "his_widget = widgets.IntText(description=\"num His ( 6.5):\",value=3)\n",
    "lys_widget = widgets.IntText(description=\"num Lys (10.5):\",value=3)\n",
    "arg_widget = widgets.IntText(description=\"num Arg (12.0):\",value=3)\n",
    "\n",
    "container = widgets.interactive(f,\n",
    "                                num_asp=asp_widget,\n",
    "                                num_glu=glu_widget,\n",
    "                                num_his=his_widget,\n",
    "                                num_lys=lys_widget,\n",
    "                                num_arg=arg_widget)\n",
    "\n",
    "    \n",
    "display(container)\n"
   ]
  },
  {
   "cell_type": "code",
   "execution_count": 4,
   "metadata": {
    "collapsed": false
   },
   "outputs": [
    {
     "data": {
      "text/plain": [
       "[0, 1, 2, 3, 4, 5, 6, 7, 8, 9, 10, 11, 12, 13]"
      ]
     },
     "execution_count": 4,
     "metadata": {},
     "output_type": "execute_result"
    }
   ],
   "source": [
    "list(range(0,14))"
   ]
  },
  {
   "cell_type": "code",
   "execution_count": null,
   "metadata": {
    "collapsed": true
   },
   "outputs": [],
   "source": []
  }
 ],
 "metadata": {
  "kernelspec": {
   "display_name": "Python 3",
   "language": "python",
   "name": "python3"
  },
  "language_info": {
   "codemirror_mode": {
    "name": "ipython",
    "version": 3
   },
   "file_extension": ".py",
   "mimetype": "text/x-python",
   "name": "python",
   "nbconvert_exporter": "python",
   "pygments_lexer": "ipython3",
   "version": "3.4.3"
  }
 },
 "nbformat": 4,
 "nbformat_minor": 0
}
