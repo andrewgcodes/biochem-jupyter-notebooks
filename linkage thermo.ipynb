{
 "cells": [
  {
   "cell_type": "code",
   "execution_count": 22,
   "metadata": {
    "collapsed": false
   },
   "outputs": [
    {
     "data": {
      "image/png": "[encoded data removed]",
      "text/plain": [
       "<matplotlib.figure.Figure at 0x7f28ef365588>"
      ]
     },
     "metadata": {},
     "output_type": "display_data"
    }
   ],
   "source": [
    "\n",
    "\n",
    "#Import libraries that do things like plot data and handle arrays\n",
    "%matplotlib inline\n",
    "from matplotlib import pyplot as plt\n",
    "import numpy as np\n",
    "\n",
    "# libraries for making pretty sliders and interactive graphs\n",
    "from IPython.html import widgets\n",
    "from IPython.html.widgets import interactive\n",
    "from IPython.display import display\n",
    "\n",
    "\n",
    "def modified_hill_equation(L,Kd,n):\n",
    "    \"\"\"\n",
    "    \"\"\"\n",
    "\n",
    "    return L**n/(Kd**n + L**n)\n",
    "    \n",
    "        \n",
    "def plot_sim(Kd,n): #,log_scale=True):\n",
    "    \"\"\"\n",
    "    \"\"\"\n",
    "        \n",
    "    # Create main plot\n",
    "    fig, ax = plt.subplots(1,2)\n",
    "    \n",
    "    L = 10**(np.array(range(-110,-50,2))*0.1)\n",
    "    \n",
    "    theta = modified_hill_equation(L,10**(Kd),n)\n",
    "    ax[0].plot(L,theta)\n",
    "    \n",
    "    # Set axes and title\n",
    "    ax[0].set_title(\"cooperative ligand binding\")\n",
    "    \n",
    "    #if log_scale:\n",
    "    ax[0].set_xlabel(\"[L] log10(molar)\")\n",
    "    ax[0].set_ylabel(\"occupancy\")\n",
    "    ax[0].set_xscale(\"log\")\n",
    "    \n",
    "    L_linear = 10**(np.array(range((Kd-2)*10,(Kd+1)*10))*.1)\n",
    "    theta_linear = modified_hill_equation(L_linear,10**(Kd),n)\n",
    "    ax[1].plot(L_linear,theta_linear)\n",
    "    ax[1].set_xlabel(\"[L] (molar)\")\n",
    "    \n",
    "    # Set axes and title\n",
    "    ax[1].set_title(\"cooperative ligand binding\")\n",
    "    \n",
    "    #if log_scale:\n",
    "    ax[1].set_ylabel(\"occupancy\")\n",
    "    \n",
    "\n",
    "    \n",
    "    \n",
    "        \n",
    "Kd_widget = widgets.IntSlider(min=-12,max=-5,value=-7,step=1,description=\"subunit Kd\")\n",
    "n_widget = widgets.IntSlider(min=1,max=12,value=1,step=1,description=\"number of subunits\")\n",
    "\n",
    "container = widgets.interactive(plot_sim,Kd=Kd_widget,n=n_widget)\n",
    "\n",
    "display(container)\n"
   ]
  },
  {
   "cell_type": "code",
   "execution_count": null,
   "metadata": {
    "collapsed": true
   },
   "outputs": [],
   "source": []
  }
 ],
 "metadata": {
  "kernelspec": {
   "display_name": "Python 3",
   "language": "python",
   "name": "python3"
  },
  "language_info": {
   "codemirror_mode": {
    "name": "ipython",
    "version": 3
   },
   "file_extension": ".py",
   "mimetype": "text/x-python",
   "name": "python",
   "nbconvert_exporter": "python",
   "pygments_lexer": "ipython3",
   "version": "3.4.3"
  }
 },
 "nbformat": 4,
 "nbformat_minor": 0
}
