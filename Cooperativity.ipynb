{
 "cells": [
  {
   "cell_type": "markdown",
   "metadata": {},
   "source": [
    "#Instructions\n",
    "* **<font color=\"red\">When you load this page, go to \"Cell->Run All\" to start the program running.  After that point, you should be able to use the sliders and buttons to manipulate the output.</font>**  \n",
    "* If things go totally awry, you can go to \"Kernel->Restart\"  and then \"Cell->Run All\".  A more drastic solution would be to close and reload the page, which will reset the code to its initial state.  \n",
    "* If you're interested in programming, click the \"Toggle raw code\" button.  This will expose the underlying program, written in the Python3 programming language.  You can edit the code to your heart's content: just go to \"Cell->Run All\" after you modify things so the changes will be incorporated.  Text in the code blocks preceded by `#` are comments to guide you through the excercise and/or explain the code\n",
    "\n"
   ]
  },
  {
   "cell_type": "code",
   "execution_count": 26,
   "metadata": {
    "collapsed": false
   },
   "outputs": [
    {
     "data": {
      "text/html": [
       "\n",
       "\n",
       "<script>\n",
       "    code_show=true; \n",
       "    \n",
       "    function code_toggle() {\n",
       "     if (code_show){\n",
       "         $('div.input').hide();\n",
       "     } else {\n",
       "         $('div.input').show();\n",
       "     }\n",
       "     code_show = !code_show\n",
       "    } \n",
       "    \n",
       "    $( document ).ready(code_toggle);\n",
       "</script>\n",
       "\n",
       "<form action=\"javascript:code_toggle()\">\n",
       "    <input type=\"submit\" value=\"Toggle raw code\">\n",
       "</form>\n",
       "\n"
      ],
      "text/plain": [
       "<IPython.core.display.HTML object>"
      ]
     },
     "execution_count": 26,
     "metadata": {},
     "output_type": "execute_result"
    }
   ],
   "source": [
    "# -----------------------------------------------------------------------------------\n",
    "# Javascript that gives us a cool hide-the-code button \n",
    "\n",
    "from IPython.display import HTML\n",
    "\n",
    "HTML('''\n",
    "\n",
    "<script>\n",
    "    code_show=true; \n",
    "    \n",
    "    function code_toggle() {\n",
    "     if (code_show){\n",
    "         $('div.input').hide();\n",
    "     } else {\n",
    "         $('div.input').show();\n",
    "     }\n",
    "     code_show = !code_show\n",
    "    } \n",
    "    \n",
    "    $( document ).ready(code_toggle);\n",
    "</script>\n",
    "\n",
    "<form action=\"javascript:code_toggle()\">\n",
    "    <input type=\"submit\" value=\"Toggle raw code\">\n",
    "</form>\n",
    "\n",
    "''')\n",
    "\n",
    "# ------------------------------------------------------------------------------------"
   ]
  },
  {
   "cell_type": "markdown",
   "metadata": {},
   "source": [
    "##Hill Model Simulator\n",
    "\n",
    "This program simulates a protein that binds ligands cooperatively.  The left and right panels show the same data, plotted with either a linear x-axis (left panel) or logarithmic x-axis (right panel).  These two views illustrate different aspects of the behavior of a cooperative enzyme.  The model describing these curves is:\n",
    "\n",
    "$$\\theta_{Hill} = \\frac{[L]^{n}}{K_{D}^{n} + [L]^{n}} = \\frac{1}{1 + \\Big (\\frac{K_{D}}{[L]} \\Big )^{n}}$$\n",
    "\n",
    "where $\\theta_{Hill}$ is the saturation of the protein with ligand, $[L]$ is the concentration of ligand, $n$ is the cooperativity, and $K_{D}$ is the dissociation constant for ligand binding to each site.  \n",
    "\n",
    "The dashed line on the plot indicates the $K_{D}$.  The gray line indicates the curve for a non-cooperative protein that has the same subunit $K_{D}$.  "
   ]
  },
  {
   "cell_type": "code",
   "execution_count": 27,
   "metadata": {
    "collapsed": false,
    "scrolled": true
   },
   "outputs": [
    {
     "data": {
      "image/png": "[encoded data removed]",
      "text/plain": [
       "<matplotlib.figure.Figure at 0x7f897e303be0>"
      ]
     },
     "metadata": {},
     "output_type": "display_data"
    }
   ],
   "source": [
    "#Import libraries that do things like plot data and handle arrays\n",
    "%matplotlib inline\n",
    "from matplotlib import pyplot as plt\n",
    "from matplotlib import colors\n",
    "import numpy as np\n",
    "\n",
    "# libraries for making pretty sliders\n",
    "from IPython.html import widgets\n",
    "from IPython.html.widgets import interactive\n",
    "from IPython.display import display\n",
    "\n",
    "\n",
    "def hill_equation(ligand_conc,Kd,n):\n",
    "    \"\"\"\n",
    "    The Hill equation.\n",
    "    \"\"\"\n",
    "    \n",
    "    theta = (ligand_conc)**n/(ligand_conc**n + Kd**n)\n",
    "    \n",
    "    return theta\n",
    "\n",
    "def plot_hill(Kd,n):\n",
    "    \"\"\"\n",
    "    \"\"\"\n",
    "    \n",
    "    Kd = 10**Kd\n",
    "\n",
    "    \n",
    "    # Create main plot\n",
    "    fig, ax = plt.subplots(1,2)\n",
    "    \n",
    "    # -----------------------------\n",
    "    # Linear plots\n",
    "    # -----------------------------\n",
    "\n",
    "    ligand_conc = np.arange(0,1e-5,2.5e-7)\n",
    "    theta = hill_equation(ligand_conc,Kd,n)\n",
    "    theta_non = hill_equation(ligand_conc,Kd,1)\n",
    "    \n",
    "    ax[0].plot(ligand_conc*1e6,theta_non,color=\"gray\")\n",
    "    ax[0].plot(ligand_conc*1e6,theta)\n",
    "    ax[0].set_ylim([-0.1,1.1])\n",
    "    ax[0].set_xlim([0,10])\n",
    "    ax[0].set_title(\"cooperative binding, linear x-axis\")\n",
    "    ax[0].set_xlabel(\"[L] (micro M)\")\n",
    "    ax[0].set_ylabel(\"theta (fractional saturation of protein)\")\n",
    "    \n",
    "    ax[0].axvline(x=1e6*Kd,color=\"blue\",linestyle=\"dashed\")\n",
    "    \n",
    "    # -----------------------------\n",
    "    # Log plots\n",
    "    # -----------------------------\n",
    "    \n",
    "    ligand_conc = 10**(np.arange(-11,-3,0.333,dtype=float))\n",
    "    theta = hill_equation(ligand_conc,Kd,n)\n",
    "    theta_non = hill_equation(ligand_conc,Kd,1)\n",
    "    \n",
    "    ax[1].plot(ligand_conc,theta_non,color=\"gray\")\n",
    "    ax[1].plot(ligand_conc,theta)\n",
    "    ax[1].set_xscale('log')\n",
    "    ax[1].set_ylim([-0.1,1.1])\n",
    "    ax[1].set_title(\"cooperative binding, logarithmic x-axis\")\n",
    "    ax[1].set_xlabel(\"[L] log10(M)\")\n",
    "    ax[1].set_ylabel(\"theta (fractional saturation of protein)\")\n",
    "    \n",
    "    ax[1].axvline(x=Kd,color=\"blue\",linestyle=\"dashed\")\n",
    "    \n",
    "    fig.set_figwidth(10)\n",
    "    fig.tight_layout()\n",
    "    plt.show()\n",
    "    \n",
    "    \n",
    "# graph for running display\n",
    "Kd_slider = widgets.FloatSlider(min=-8,max=-5,step=0.25,value=-6,description=\"Kd (log10(M))\")\n",
    "n_slider = widgets.FloatSlider(min=0.2,max=5,by=0.2,value=1.0,description=\"n (Hill coefficient)\")\n",
    "\n",
    "w = widgets.interactive(plot_hill,\n",
    "                        Kd=Kd_slider,\n",
    "                        n=n_slider)\n",
    "                        \n",
    "display(w)\n"
   ]
  },
  {
   "cell_type": "code",
   "execution_count": null,
   "metadata": {
    "collapsed": true
   },
   "outputs": [],
   "source": []
  }
 ],
 "metadata": {
  "kernelspec": {
   "display_name": "Python 3",
   "language": "python",
   "name": "python3"
  },
  "language_info": {
   "codemirror_mode": {
    "name": "ipython",
    "version": 3
   },
   "file_extension": ".py",
   "mimetype": "text/x-python",
   "name": "python",
   "nbconvert_exporter": "python",
   "pygments_lexer": "ipython3",
   "version": "3.5.2"
  }
 },
 "nbformat": 4,
 "nbformat_minor": 0
}
